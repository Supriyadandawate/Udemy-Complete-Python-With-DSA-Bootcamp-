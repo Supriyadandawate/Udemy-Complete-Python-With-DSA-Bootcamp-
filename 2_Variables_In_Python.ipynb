{
  "nbformat": 4,
  "nbformat_minor": 0,
  "metadata": {
    "colab": {
      "provenance": [],
      "authorship_tag": "ABX9TyPyegEb7UTLInsdwaP3YZUw",
      "include_colab_link": true
    },
    "kernelspec": {
      "name": "python3",
      "display_name": "Python 3"
    },
    "language_info": {
      "name": "python"
    }
  },
  "cells": [
    {
      "cell_type": "markdown",
      "metadata": {
        "id": "view-in-github",
        "colab_type": "text"
      },
      "source": [
        "<a href=\"https://colab.research.google.com/github/Supriyadandawate/Udemy-Complete-Python-With-DSA-Bootcamp-/blob/main/2_Variables_In_Python.ipynb\" target=\"_parent\"><img src=\"https://colab.research.google.com/assets/colab-badge.svg\" alt=\"Open In Colab\"/></a>"
      ]
    },
    {
      "cell_type": "markdown",
      "source": [
        "# Introduction to Variable\n",
        "# Declaring and Assigning Variables\n",
        "# Naming Convention\n",
        "# Understanding Variable Type\n",
        "# Type Checking and convention\n",
        "# Dynamic Typing\n",
        "# Prcatical Examples and Commnon errors"
      ],
      "metadata": {
        "id": "5tc4onYNspcI"
      }
    },
    {
      "cell_type": "code",
      "source": [
        "#Introduction to Variable\n"
      ],
      "metadata": {
        "id": "Cn454Ofcs7rE"
      },
      "execution_count": 2,
      "outputs": []
    },
    {
      "cell_type": "markdown",
      "source": [
        "# Variables\n",
        "\n",
        "**Vraibales are fundamnetal element in prgramming used to store data can be referenced and manipulated in a prigram. In a python variables are created when you assign a value to them, and they do not need to explicit declaration to reverse memory space. The declaration happens automatically when you assign a value to a variable**"
      ],
      "metadata": {
        "id": "_hcdAMSFttQP"
      }
    },
    {
      "cell_type": "code",
      "source": [
        "a =100"
      ],
      "metadata": {
        "id": "VCxESznvui-E"
      },
      "execution_count": 3,
      "outputs": []
    },
    {
      "cell_type": "code",
      "source": [
        "## Decalring and Assigning variables\n",
        "age = 32\n",
        "height = 6.1\n",
        "name = \"Supriya\"\n",
        "is_student = True\n",
        "## printing a variables\n",
        "print(\"Age:\",age)\n",
        "print(\"Height:\",height)\n",
        "print(\"Name:\",name)\n"
      ],
      "metadata": {
        "colab": {
          "base_uri": "https://localhost:8080/"
        },
        "id": "GAKrrJjHumLf",
        "outputId": "f6d366f1-2193-4b50-a7cd-a875d2d6916c"
      },
      "execution_count": 4,
      "outputs": [
        {
          "output_type": "stream",
          "name": "stdout",
          "text": [
            "Age: 32\n",
            "Height: 6.1\n",
            "Name: Supriya\n"
          ]
        }
      ]
    },
    {
      "cell_type": "code",
      "source": [
        "## Naming Convention\n",
        "## Variable name should be desriptive\n",
        "## They must sort with letter an '_' and contain letters, numbers and underscores\n",
        "## Variables name are cases sensitive\n",
        "\n",
        "## Valid Variables names\n",
        "first_name =\"Supriya\"\n",
        "last_name =\"Dandawate\""
      ],
      "metadata": {
        "id": "Dcd68ewrlNgK"
      },
      "execution_count": 5,
      "outputs": []
    },
    {
      "cell_type": "code",
      "source": [
        "## Understanding Variables types\n",
        "## python is dynamically typed, type of a variable is determined at runtime\n",
        "age = 25"
      ],
      "metadata": {
        "id": "CrTqWkAwl_NE"
      },
      "execution_count": 6,
      "outputs": []
    },
    {
      "cell_type": "code",
      "source": [
        "age = 25 #int\n",
        "height = 6.1 #float\n",
        "name = \"Supriya\" #string\n",
        "is_student = True #boolean\n",
        "\n",
        "print(type(age))\n",
        "print(type(height))\n",
        "print(type(name))\n",
        "print(type(is_student))"
      ],
      "metadata": {
        "colab": {
          "base_uri": "https://localhost:8080/"
        },
        "id": "o4zIOh4Emc94",
        "outputId": "d8f34e5b-265c-4b16-e5eb-8b506e0f0f26"
      },
      "execution_count": 7,
      "outputs": [
        {
          "output_type": "stream",
          "name": "stdout",
          "text": [
            "<class 'int'>\n",
            "<class 'float'>\n",
            "<class 'str'>\n",
            "<class 'bool'>\n"
          ]
        }
      ]
    },
    {
      "cell_type": "code",
      "source": [
        "## Type checking and conversion\n",
        "type(height)"
      ],
      "metadata": {
        "colab": {
          "base_uri": "https://localhost:8080/"
        },
        "id": "rzwCtlJXnMiC",
        "outputId": "53a3c519-4e73-4ea3-df9d-fd9be7532807"
      },
      "execution_count": 8,
      "outputs": [
        {
          "output_type": "execute_result",
          "data": {
            "text/plain": [
              "float"
            ]
          },
          "metadata": {},
          "execution_count": 8
        }
      ]
    },
    {
      "cell_type": "code",
      "source": [
        "age = 25\n",
        "print(type(age))\n",
        ""
      ],
      "metadata": {
        "colab": {
          "base_uri": "https://localhost:8080/"
        },
        "id": "u9bbD0ZUnerh",
        "outputId": "28f1e3c2-9b79-4f8a-e581-2c522b3ba884"
      },
      "execution_count": 9,
      "outputs": [
        {
          "output_type": "stream",
          "name": "stdout",
          "text": [
            "<class 'int'>\n"
          ]
        }
      ]
    },
    {
      "cell_type": "code",
      "source": [
        "height = 5.11\n",
        "type(height)"
      ],
      "metadata": {
        "colab": {
          "base_uri": "https://localhost:8080/"
        },
        "id": "ebGHKL7UnlQY",
        "outputId": "2e83168d-23cb-43d2-f4b7-0f02b2737d40"
      },
      "execution_count": 10,
      "outputs": [
        {
          "output_type": "execute_result",
          "data": {
            "text/plain": [
              "float"
            ]
          },
          "metadata": {},
          "execution_count": 10
        }
      ]
    },
    {
      "cell_type": "code",
      "source": [
        "float(int(height))"
      ],
      "metadata": {
        "colab": {
          "base_uri": "https://localhost:8080/"
        },
        "id": "mmx8yi-0oAmO",
        "outputId": "b1043f69-24bc-4e88-b63b-6fb6f77688a2"
      },
      "execution_count": 11,
      "outputs": [
        {
          "output_type": "execute_result",
          "data": {
            "text/plain": [
              "5.0"
            ]
          },
          "metadata": {},
          "execution_count": 11
        }
      ]
    },
    {
      "cell_type": "markdown",
      "source": [
        "# Dynamically Typing"
      ],
      "metadata": {
        "id": "MCIrrLPgoMLV"
      }
    },
    {
      "cell_type": "code",
      "source": [
        "## Python allows the type of a variable to chnage as the program executes\n",
        "var = 10  #int\n",
        "print(var,type(var))\n",
        "var = \"Hello\" #string\n",
        "print(var,type(var))\n",
        "var = 3.14 # float\n",
        "print(var,type(var))"
      ],
      "metadata": {
        "colab": {
          "base_uri": "https://localhost:8080/"
        },
        "id": "MtP56J_soFPu",
        "outputId": "8dc65c2e-70e7-4bc1-ebfd-94e54e7dcc15"
      },
      "execution_count": 13,
      "outputs": [
        {
          "output_type": "stream",
          "name": "stdout",
          "text": [
            "10 <class 'int'>\n",
            "Hello <class 'str'>\n",
            "3.14 <class 'float'>\n"
          ]
        }
      ]
    },
    {
      "cell_type": "code",
      "source": [
        "## input\n",
        "age = input (\"what is the age\")\n",
        "print(age)\n",
        "print(age,type(age))"
      ],
      "metadata": {
        "colab": {
          "base_uri": "https://localhost:8080/"
        },
        "id": "pQsvxgmeorOS",
        "outputId": "87b1fab0-32b8-4de2-f5b7-c8878e30c385"
      },
      "execution_count": 14,
      "outputs": [
        {
          "output_type": "stream",
          "name": "stdout",
          "text": [
            "what is the age23\n",
            "23\n",
            "23 <class 'str'>\n"
          ]
        }
      ]
    }
  ]
}