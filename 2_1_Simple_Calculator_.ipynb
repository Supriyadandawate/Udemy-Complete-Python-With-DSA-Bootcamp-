{
  "nbformat": 4,
  "nbformat_minor": 0,
  "metadata": {
    "colab": {
      "provenance": [],
      "authorship_tag": "ABX9TyMALft2txYJ7PshXrvTSONB",
      "include_colab_link": true
    },
    "kernelspec": {
      "name": "python3",
      "display_name": "Python 3"
    },
    "language_info": {
      "name": "python"
    }
  },
  "cells": [
    {
      "cell_type": "markdown",
      "metadata": {
        "id": "view-in-github",
        "colab_type": "text"
      },
      "source": [
        "<a href=\"https://colab.research.google.com/github/Supriyadandawate/Udemy-Complete-Python-With-DSA-Bootcamp-/blob/main/2_1_Simple_Calculator_.ipynb\" target=\"_parent\"><img src=\"https://colab.research.google.com/assets/colab-badge.svg\" alt=\"Open In Colab\"/></a>"
      ]
    },
    {
      "cell_type": "code",
      "execution_count": 2,
      "metadata": {
        "colab": {
          "base_uri": "https://localhost:8080/"
        },
        "id": "wGdV0PRVpe7L",
        "outputId": "64ec30df-4810-40ea-eed6-6e38a000876d"
      },
      "outputs": [
        {
          "output_type": "stream",
          "name": "stdout",
          "text": [
            "Enter first number:33\n",
            "Enter second number:33\n",
            "Sum: 66.0\n",
            "Difference: 0.0\n",
            "Product: 1089.0\n",
            "Quotient: 1.0\n"
          ]
        }
      ],
      "source": [
        "num1 =float(input(\"Enter first number:\"))\n",
        "num2 =float(input(\"Enter second number:\"))\n",
        "\n",
        "sum = num1 + num2\n",
        "difference = num1 -num2\n",
        "product = num1*num2\n",
        "quotient = num1/num2\n",
        "\n",
        "print(\"Sum:\",sum)\n",
        "print(\"Difference:\",difference)\n",
        "print(\"Product:\",product)\n",
        "print(\"Quotient:\",quotient)\n"
      ]
    }
  ]
}