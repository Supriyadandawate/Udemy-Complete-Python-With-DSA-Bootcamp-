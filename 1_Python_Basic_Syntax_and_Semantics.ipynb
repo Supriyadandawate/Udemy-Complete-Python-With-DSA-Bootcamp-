{
  "nbformat": 4,
  "nbformat_minor": 0,
  "metadata": {
    "colab": {
      "provenance": []
    },
    "kernelspec": {
      "name": "python3",
      "display_name": "Python 3"
    },
    "language_info": {
      "name": "python"
    }
  },
  "cells": [
    {
      "cell_type": "code",
      "execution_count": 2,
      "metadata": {
        "id": "Mp91aBZMyw_5",
        "colab": {
          "base_uri": "https://localhost:8080/"
        },
        "outputId": "dbb15f52-484a-45b8-a321-c6c64f400f77"
      },
      "outputs": [
        {
          "output_type": "stream",
          "name": "stdout",
          "text": [
            "Supriya\n",
            "Dandawate\n"
          ]
        }
      ],
      "source": [
        "## Basic Syntax Rules in python\n",
        "## Case Sensetivity - Python is case sensitive\n",
        "name = \"Supriya\"\n",
        "Name =\"Dandawate\"\n",
        "print(name)\n",
        "print(Name)"
      ]
    },
    {
      "cell_type": "code",
      "source": [
        "## Indentation\n",
        "## Python use indentation to define blocks of code. Consistent use of spaces (commonly 4) or tab is required.\n",
        "age =32\n",
        "if age>30:\n",
        "  print(age)"
      ],
      "metadata": {
        "colab": {
          "base_uri": "https://localhost:8080/"
        },
        "id": "PAojlfIkmMo7",
        "outputId": "9de13ae1-2a77-4e41-9e1d-9a68cb01ec0c"
      },
      "execution_count": 3,
      "outputs": [
        {
          "output_type": "stream",
          "name": "stdout",
          "text": [
            "32\n"
          ]
        }
      ]
    },
    {
      "cell_type": "code",
      "source": [
        "## This is a sigle line comment\n",
        "print(\"Hello World \")"
      ],
      "metadata": {
        "colab": {
          "base_uri": "https://localhost:8080/"
        },
        "id": "TXRqfz0Am0uf",
        "outputId": "fcc317ed-122c-4824-dc4e-acbeb58ec1b6"
      },
      "execution_count": 4,
      "outputs": [
        {
          "output_type": "stream",
          "name": "stdout",
          "text": [
            "Hello World \n"
          ]
        }
      ]
    },
    {
      "cell_type": "code",
      "source": [
        "## Line continuation\n",
        "## Use a blackslash(\\) to continue statemnet to the new line\n",
        "total = 1+2+3+4+5+5+6+7+ \\\n",
        "        4+5+6\n",
        "print(total)"
      ],
      "metadata": {
        "colab": {
          "base_uri": "https://localhost:8080/"
        },
        "id": "Lp23TTRpnAQB",
        "outputId": "83c93c38-2f90-4cc7-eed7-e57c71aea9c4"
      },
      "execution_count": 12,
      "outputs": [
        {
          "output_type": "stream",
          "name": "stdout",
          "text": [
            "48\n"
          ]
        }
      ]
    },
    {
      "cell_type": "code",
      "source": [
        "## Multiple satatement on asingle line\n",
        "x=5; y=10;z=x+y\n",
        "print(z)"
      ],
      "metadata": {
        "colab": {
          "base_uri": "https://localhost:8080/"
        },
        "id": "nDLfp-ElnnI4",
        "outputId": "891fb4e9-e02d-42f6-cdc1-182f3b784e09"
      },
      "execution_count": 13,
      "outputs": [
        {
          "output_type": "stream",
          "name": "stdout",
          "text": [
            "15\n"
          ]
        }
      ]
    },
    {
      "cell_type": "code",
      "source": [
        "## Understand semnatics In Python\n",
        "# Variable assignment\n",
        "age = 32 # age is an integer\n",
        "name = \"Supriya\" # name is a string\n"
      ],
      "metadata": {
        "id": "PpDAT_QWojpv"
      },
      "execution_count": 15,
      "outputs": []
    },
    {
      "cell_type": "code",
      "source": [
        "type(age)\n"
      ],
      "metadata": {
        "colab": {
          "base_uri": "https://localhost:8080/"
        },
        "id": "EtGkVap1pEf-",
        "outputId": "0e3809e2-9e91-4d68-f247-d445782332b9"
      },
      "execution_count": 16,
      "outputs": [
        {
          "output_type": "execute_result",
          "data": {
            "text/plain": [
              "int"
            ]
          },
          "metadata": {},
          "execution_count": 16
        }
      ]
    },
    {
      "cell_type": "code",
      "source": [
        "type(name)"
      ],
      "metadata": {
        "colab": {
          "base_uri": "https://localhost:8080/"
        },
        "id": "TAkUjnrypHQd",
        "outputId": "e2bf7955-b583-47ab-8f60-b6bca5ca3b1c"
      },
      "execution_count": 17,
      "outputs": [
        {
          "output_type": "execute_result",
          "data": {
            "text/plain": [
              "str"
            ]
          },
          "metadata": {},
          "execution_count": 17
        }
      ]
    },
    {
      "cell_type": "code",
      "source": [
        "## Type Inferene\n",
        "variable = 10\n",
        "print (type(variable))\n"
      ],
      "metadata": {
        "colab": {
          "base_uri": "https://localhost:8080/"
        },
        "id": "osO6mLIHpJDu",
        "outputId": "cf753b9c-4f26-46cb-88fd-1b155b302c25"
      },
      "execution_count": 18,
      "outputs": [
        {
          "output_type": "stream",
          "name": "stdout",
          "text": [
            "<class 'int'>\n"
          ]
        }
      ]
    },
    {
      "cell_type": "code",
      "source": [
        "## Type Inference\n",
        "Variable =10\n",
        "print(type(Variable))\n",
        "Variable = \"Supriya\"\n",
        "print(type(Variable))"
      ],
      "metadata": {
        "colab": {
          "base_uri": "https://localhost:8080/"
        },
        "id": "I-KNSHiypXPF",
        "outputId": "464846da-4f41-41fb-d106-17fbdacd3293"
      },
      "execution_count": 19,
      "outputs": [
        {
          "output_type": "stream",
          "name": "stdout",
          "text": [
            "<class 'int'>\n",
            "<class 'str'>\n"
          ]
        }
      ]
    },
    {
      "cell_type": "code",
      "source": [
        "## Code examples of Identation\n",
        "if True:\n",
        "  print(\"Correct Identation\")\n",
        "  if False:\n",
        "    print(\"This one print\")\n",
        "  print(\"This will print\")\n",
        "print(\"Outside the if blcok\")\n"
      ],
      "metadata": {
        "colab": {
          "base_uri": "https://localhost:8080/"
        },
        "id": "IvQr2QIXpnzl",
        "outputId": "c5fd4b40-812a-41b4-faf9-4319e486fb62"
      },
      "execution_count": 20,
      "outputs": [
        {
          "output_type": "stream",
          "name": "stdout",
          "text": [
            "Correct Identation\n",
            "This will print\n",
            "Outside the if blcok\n"
          ]
        }
      ]
    }
  ]
}